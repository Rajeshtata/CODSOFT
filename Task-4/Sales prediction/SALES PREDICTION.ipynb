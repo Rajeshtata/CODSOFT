{
 "cells": [
  {
   "cell_type": "markdown",
   "id": "fe2dbab1",
   "metadata": {},
   "source": [
    "## Problem Statement: \n",
    "    SALES PREDICTION\n",
    "   Sales prediction involves forecasting the amount of a product that customers will purchase, taking into account various factors such as advertising expenditure, target audience segmentation, and advertising platform selection.In businesses that offer products or services, the role of a Data Scientist is crucial for predicting future sales. They utilize machinelearning techniques in Python to analyze and interpret  data, allowing hem to make informed decisions regarding advertising costs. Byleveraging these predictions, businesses can optimize their advertising strategies and maximize sales potential. Let's embark onthe journey of sales prediction using machine learning in Python."
   ]
  },
  {
   "cell_type": "code",
   "execution_count": 1,
   "id": "a80a09aa",
   "metadata": {
    "_cell_guid": "b1076dfc-b9ad-4769-8c92-a6c4dae69d19",
    "_uuid": "8f2839f25d086af736a60e9eeb907d3b93b6e0e5",
    "execution": {
     "iopub.execute_input": "2023-02-17T06:56:25.178285Z",
     "iopub.status.busy": "2023-02-17T06:56:25.176685Z",
     "iopub.status.idle": "2023-02-17T06:56:25.201029Z",
     "shell.execute_reply": "2023-02-17T06:56:25.199455Z"
    },
    "papermill": {
     "duration": 0.044652,
     "end_time": "2023-02-17T06:56:25.204446",
     "exception": false,
     "start_time": "2023-02-17T06:56:25.159794",
     "status": "completed"
    },
    "tags": []
   },
   "outputs": [],
   "source": [
    "\n",
    "import numpy as np \n",
    "import pandas as pd \n",
    "\n",
    "import os\n",
    "for dirname, _, filenames in os.walk('/kaggle/input'):\n",
    "    for filename in filenames:\n",
    "        print(os.path.join(dirname, filename))"
   ]
  },
  {
   "cell_type": "markdown",
   "id": "d1d937b0",
   "metadata": {
    "papermill": {
     "duration": 0.012568,
     "end_time": "2023-02-17T06:56:25.230275",
     "exception": false,
     "start_time": "2023-02-17T06:56:25.217707",
     "status": "completed"
    },
    "tags": []
   },
   "source": [
    "Simple Linear Regression"
   ]
  },
  {
   "cell_type": "code",
   "execution_count": 4,
   "id": "5c472e2a",
   "metadata": {
    "execution": {
     "iopub.execute_input": "2023-02-17T06:56:25.329597Z",
     "iopub.status.busy": "2023-02-17T06:56:25.328839Z",
     "iopub.status.idle": "2023-02-17T06:56:26.305862Z",
     "shell.execute_reply": "2023-02-17T06:56:26.304537Z"
    },
    "papermill": {
     "duration": 0.995672,
     "end_time": "2023-02-17T06:56:26.309025",
     "exception": false,
     "start_time": "2023-02-17T06:56:25.313353",
     "status": "completed"
    },
    "tags": []
   },
   "outputs": [],
   "source": [
    "\n",
    "import pandas as pd\n",
    "import numpy as np\n",
    "import seaborn as sns\n",
    "from matplotlib import pyplot as plt"
   ]
  },
  {
   "cell_type": "code",
   "execution_count": 6,
   "id": "f4dbe934",
   "metadata": {
    "execution": {
     "iopub.execute_input": "2023-02-17T06:56:26.339217Z",
     "iopub.status.busy": "2023-02-17T06:56:26.338764Z",
     "iopub.status.idle": "2023-02-17T06:56:26.358194Z",
     "shell.execute_reply": "2023-02-17T06:56:26.356797Z"
    },
    "papermill": {
     "duration": 0.037053,
     "end_time": "2023-02-17T06:56:26.361423",
     "exception": false,
     "start_time": "2023-02-17T06:56:26.324370",
     "status": "completed"
    },
    "tags": []
   },
   "outputs": [
    {
     "data": {
      "text/html": [
       "<div>\n",
       "<style scoped>\n",
       "    .dataframe tbody tr th:only-of-type {\n",
       "        vertical-align: middle;\n",
       "    }\n",
       "\n",
       "    .dataframe tbody tr th {\n",
       "        vertical-align: top;\n",
       "    }\n",
       "\n",
       "    .dataframe thead th {\n",
       "        text-align: right;\n",
       "    }\n",
       "</style>\n",
       "<table border=\"1\" class=\"dataframe\">\n",
       "  <thead>\n",
       "    <tr style=\"text-align: right;\">\n",
       "      <th></th>\n",
       "      <th>TV</th>\n",
       "      <th>Radio</th>\n",
       "      <th>Newspaper</th>\n",
       "      <th>Sales</th>\n",
       "    </tr>\n",
       "  </thead>\n",
       "  <tbody>\n",
       "    <tr>\n",
       "      <th>0</th>\n",
       "      <td>230.1</td>\n",
       "      <td>37.8</td>\n",
       "      <td>69.2</td>\n",
       "      <td>22.1</td>\n",
       "    </tr>\n",
       "    <tr>\n",
       "      <th>1</th>\n",
       "      <td>44.5</td>\n",
       "      <td>39.3</td>\n",
       "      <td>45.1</td>\n",
       "      <td>10.4</td>\n",
       "    </tr>\n",
       "    <tr>\n",
       "      <th>2</th>\n",
       "      <td>17.2</td>\n",
       "      <td>45.9</td>\n",
       "      <td>69.3</td>\n",
       "      <td>12.0</td>\n",
       "    </tr>\n",
       "    <tr>\n",
       "      <th>3</th>\n",
       "      <td>151.5</td>\n",
       "      <td>41.3</td>\n",
       "      <td>58.5</td>\n",
       "      <td>16.5</td>\n",
       "    </tr>\n",
       "    <tr>\n",
       "      <th>4</th>\n",
       "      <td>180.8</td>\n",
       "      <td>10.8</td>\n",
       "      <td>58.4</td>\n",
       "      <td>17.9</td>\n",
       "    </tr>\n",
       "    <tr>\n",
       "      <th>...</th>\n",
       "      <td>...</td>\n",
       "      <td>...</td>\n",
       "      <td>...</td>\n",
       "      <td>...</td>\n",
       "    </tr>\n",
       "    <tr>\n",
       "      <th>195</th>\n",
       "      <td>38.2</td>\n",
       "      <td>3.7</td>\n",
       "      <td>13.8</td>\n",
       "      <td>7.6</td>\n",
       "    </tr>\n",
       "    <tr>\n",
       "      <th>196</th>\n",
       "      <td>94.2</td>\n",
       "      <td>4.9</td>\n",
       "      <td>8.1</td>\n",
       "      <td>14.0</td>\n",
       "    </tr>\n",
       "    <tr>\n",
       "      <th>197</th>\n",
       "      <td>177.0</td>\n",
       "      <td>9.3</td>\n",
       "      <td>6.4</td>\n",
       "      <td>14.8</td>\n",
       "    </tr>\n",
       "    <tr>\n",
       "      <th>198</th>\n",
       "      <td>283.6</td>\n",
       "      <td>42.0</td>\n",
       "      <td>66.2</td>\n",
       "      <td>25.5</td>\n",
       "    </tr>\n",
       "    <tr>\n",
       "      <th>199</th>\n",
       "      <td>232.1</td>\n",
       "      <td>8.6</td>\n",
       "      <td>8.7</td>\n",
       "      <td>18.4</td>\n",
       "    </tr>\n",
       "  </tbody>\n",
       "</table>\n",
       "<p>200 rows × 4 columns</p>\n",
       "</div>"
      ],
      "text/plain": [
       "        TV  Radio  Newspaper  Sales\n",
       "0    230.1   37.8       69.2   22.1\n",
       "1     44.5   39.3       45.1   10.4\n",
       "2     17.2   45.9       69.3   12.0\n",
       "3    151.5   41.3       58.5   16.5\n",
       "4    180.8   10.8       58.4   17.9\n",
       "..     ...    ...        ...    ...\n",
       "195   38.2    3.7       13.8    7.6\n",
       "196   94.2    4.9        8.1   14.0\n",
       "197  177.0    9.3        6.4   14.8\n",
       "198  283.6   42.0       66.2   25.5\n",
       "199  232.1    8.6        8.7   18.4\n",
       "\n",
       "[200 rows x 4 columns]"
      ]
     },
     "execution_count": 6,
     "metadata": {},
     "output_type": "execute_result"
    }
   ],
   "source": [
    "df= pd.read_csv('advertising.csv')\n",
    "df"
   ]
  },
  {
   "cell_type": "code",
   "execution_count": 7,
   "id": "cc8cb3dc",
   "metadata": {
    "execution": {
     "iopub.execute_input": "2023-02-17T06:56:26.389478Z",
     "iopub.status.busy": "2023-02-17T06:56:26.388989Z",
     "iopub.status.idle": "2023-02-17T06:56:26.412823Z",
     "shell.execute_reply": "2023-02-17T06:56:26.411846Z"
    },
    "papermill": {
     "duration": 0.041063,
     "end_time": "2023-02-17T06:56:26.415614",
     "exception": false,
     "start_time": "2023-02-17T06:56:26.374551",
     "status": "completed"
    },
    "tags": []
   },
   "outputs": [
    {
     "data": {
      "text/html": [
       "<div>\n",
       "<style scoped>\n",
       "    .dataframe tbody tr th:only-of-type {\n",
       "        vertical-align: middle;\n",
       "    }\n",
       "\n",
       "    .dataframe tbody tr th {\n",
       "        vertical-align: top;\n",
       "    }\n",
       "\n",
       "    .dataframe thead th {\n",
       "        text-align: right;\n",
       "    }\n",
       "</style>\n",
       "<table border=\"1\" class=\"dataframe\">\n",
       "  <thead>\n",
       "    <tr style=\"text-align: right;\">\n",
       "      <th></th>\n",
       "      <th>TV</th>\n",
       "      <th>Radio</th>\n",
       "      <th>Newspaper</th>\n",
       "      <th>Sales</th>\n",
       "    </tr>\n",
       "  </thead>\n",
       "  <tbody>\n",
       "    <tr>\n",
       "      <th>0</th>\n",
       "      <td>230.1</td>\n",
       "      <td>37.8</td>\n",
       "      <td>69.2</td>\n",
       "      <td>22.1</td>\n",
       "    </tr>\n",
       "    <tr>\n",
       "      <th>1</th>\n",
       "      <td>44.5</td>\n",
       "      <td>39.3</td>\n",
       "      <td>45.1</td>\n",
       "      <td>10.4</td>\n",
       "    </tr>\n",
       "    <tr>\n",
       "      <th>2</th>\n",
       "      <td>17.2</td>\n",
       "      <td>45.9</td>\n",
       "      <td>69.3</td>\n",
       "      <td>12.0</td>\n",
       "    </tr>\n",
       "    <tr>\n",
       "      <th>3</th>\n",
       "      <td>151.5</td>\n",
       "      <td>41.3</td>\n",
       "      <td>58.5</td>\n",
       "      <td>16.5</td>\n",
       "    </tr>\n",
       "    <tr>\n",
       "      <th>4</th>\n",
       "      <td>180.8</td>\n",
       "      <td>10.8</td>\n",
       "      <td>58.4</td>\n",
       "      <td>17.9</td>\n",
       "    </tr>\n",
       "  </tbody>\n",
       "</table>\n",
       "</div>"
      ],
      "text/plain": [
       "      TV  Radio  Newspaper  Sales\n",
       "0  230.1   37.8       69.2   22.1\n",
       "1   44.5   39.3       45.1   10.4\n",
       "2   17.2   45.9       69.3   12.0\n",
       "3  151.5   41.3       58.5   16.5\n",
       "4  180.8   10.8       58.4   17.9"
      ]
     },
     "execution_count": 7,
     "metadata": {},
     "output_type": "execute_result"
    }
   ],
   "source": [
    "df.head(5)"
   ]
  },
  {
   "cell_type": "markdown",
   "id": "77a3fdea",
   "metadata": {
    "papermill": {
     "duration": 0.012682,
     "end_time": "2023-02-17T06:56:26.441539",
     "exception": false,
     "start_time": "2023-02-17T06:56:26.428857",
     "status": "completed"
    },
    "tags": []
   },
   "source": [
    "check shape and datatypes of features"
   ]
  },
  {
   "cell_type": "code",
   "execution_count": 8,
   "id": "4198c3eb",
   "metadata": {
    "execution": {
     "iopub.execute_input": "2023-02-17T06:56:26.473620Z",
     "iopub.status.busy": "2023-02-17T06:56:26.472434Z",
     "iopub.status.idle": "2023-02-17T06:56:26.479431Z",
     "shell.execute_reply": "2023-02-17T06:56:26.478596Z"
    },
    "papermill": {
     "duration": 0.028978,
     "end_time": "2023-02-17T06:56:26.483513",
     "exception": false,
     "start_time": "2023-02-17T06:56:26.454535",
     "status": "completed"
    },
    "tags": []
   },
   "outputs": [
    {
     "data": {
      "text/plain": [
       "(200, 4)"
      ]
     },
     "execution_count": 8,
     "metadata": {},
     "output_type": "execute_result"
    }
   ],
   "source": [
    "df.shape"
   ]
  },
  {
   "cell_type": "code",
   "execution_count": 9,
   "id": "6ff950e3",
   "metadata": {
    "execution": {
     "iopub.execute_input": "2023-02-17T06:56:26.520565Z",
     "iopub.status.busy": "2023-02-17T06:56:26.519647Z",
     "iopub.status.idle": "2023-02-17T06:56:26.546949Z",
     "shell.execute_reply": "2023-02-17T06:56:26.545578Z"
    },
    "papermill": {
     "duration": 0.047085,
     "end_time": "2023-02-17T06:56:26.549899",
     "exception": false,
     "start_time": "2023-02-17T06:56:26.502814",
     "status": "completed"
    },
    "tags": []
   },
   "outputs": [
    {
     "name": "stdout",
     "output_type": "stream",
     "text": [
      "<class 'pandas.core.frame.DataFrame'>\n",
      "RangeIndex: 200 entries, 0 to 199\n",
      "Data columns (total 4 columns):\n",
      " #   Column     Non-Null Count  Dtype  \n",
      "---  ------     --------------  -----  \n",
      " 0   TV         200 non-null    float64\n",
      " 1   Radio      200 non-null    float64\n",
      " 2   Newspaper  200 non-null    float64\n",
      " 3   Sales      200 non-null    float64\n",
      "dtypes: float64(4)\n",
      "memory usage: 6.4 KB\n"
     ]
    }
   ],
   "source": [
    "df.info()"
   ]
  },
  {
   "cell_type": "code",
   "execution_count": 10,
   "id": "7f275429",
   "metadata": {
    "execution": {
     "iopub.execute_input": "2023-02-17T06:56:26.579659Z",
     "iopub.status.busy": "2023-02-17T06:56:26.579160Z",
     "iopub.status.idle": "2023-02-17T06:56:26.584434Z",
     "shell.execute_reply": "2023-02-17T06:56:26.583213Z"
    },
    "papermill": {
     "duration": 0.023229,
     "end_time": "2023-02-17T06:56:26.586977",
     "exception": false,
     "start_time": "2023-02-17T06:56:26.563748",
     "status": "completed"
    },
    "tags": []
   },
   "outputs": [],
   "source": [
    "# so all float datatypes are float"
   ]
  },
  {
   "cell_type": "markdown",
   "id": "b44c3db0",
   "metadata": {
    "papermill": {
     "duration": 0.012941,
     "end_time": "2023-02-17T06:56:26.613441",
     "exception": false,
     "start_time": "2023-02-17T06:56:26.600500",
     "status": "completed"
    },
    "tags": []
   },
   "source": [
    "check null value"
   ]
  },
  {
   "cell_type": "code",
   "execution_count": 11,
   "id": "676a274c",
   "metadata": {
    "execution": {
     "iopub.execute_input": "2023-02-17T06:56:26.642275Z",
     "iopub.status.busy": "2023-02-17T06:56:26.641422Z",
     "iopub.status.idle": "2023-02-17T06:56:26.651508Z",
     "shell.execute_reply": "2023-02-17T06:56:26.650389Z"
    },
    "papermill": {
     "duration": 0.027217,
     "end_time": "2023-02-17T06:56:26.653984",
     "exception": false,
     "start_time": "2023-02-17T06:56:26.626767",
     "status": "completed"
    },
    "tags": []
   },
   "outputs": [
    {
     "data": {
      "text/plain": [
       "TV           0\n",
       "Radio        0\n",
       "Newspaper    0\n",
       "Sales        0\n",
       "dtype: int64"
      ]
     },
     "execution_count": 11,
     "metadata": {},
     "output_type": "execute_result"
    }
   ],
   "source": [
    "df.isnull().sum()"
   ]
  },
  {
   "cell_type": "code",
   "execution_count": 12,
   "id": "78957bba",
   "metadata": {
    "execution": {
     "iopub.execute_input": "2023-02-17T06:56:26.683769Z",
     "iopub.status.busy": "2023-02-17T06:56:26.682602Z",
     "iopub.status.idle": "2023-02-17T06:56:26.687720Z",
     "shell.execute_reply": "2023-02-17T06:56:26.686741Z"
    },
    "papermill": {
     "duration": 0.022573,
     "end_time": "2023-02-17T06:56:26.690148",
     "exception": false,
     "start_time": "2023-02-17T06:56:26.667575",
     "status": "completed"
    },
    "tags": []
   },
   "outputs": [],
   "source": [
    "# no null value present"
   ]
  },
  {
   "cell_type": "markdown",
   "id": "4dfe651e",
   "metadata": {
    "papermill": {
     "duration": 0.013176,
     "end_time": "2023-02-17T06:56:26.716924",
     "exception": false,
     "start_time": "2023-02-17T06:56:26.703748",
     "status": "completed"
    },
    "tags": []
   },
   "source": [
    "check outliers"
   ]
  },
  {
   "cell_type": "code",
   "execution_count": 13,
   "id": "975ff45c",
   "metadata": {
    "execution": {
     "iopub.execute_input": "2023-02-17T06:56:26.746697Z",
     "iopub.status.busy": "2023-02-17T06:56:26.745631Z",
     "iopub.status.idle": "2023-02-17T06:56:26.773700Z",
     "shell.execute_reply": "2023-02-17T06:56:26.772380Z"
    },
    "papermill": {
     "duration": 0.045857,
     "end_time": "2023-02-17T06:56:26.776412",
     "exception": false,
     "start_time": "2023-02-17T06:56:26.730555",
     "status": "completed"
    },
    "tags": []
   },
   "outputs": [
    {
     "data": {
      "text/html": [
       "<div>\n",
       "<style scoped>\n",
       "    .dataframe tbody tr th:only-of-type {\n",
       "        vertical-align: middle;\n",
       "    }\n",
       "\n",
       "    .dataframe tbody tr th {\n",
       "        vertical-align: top;\n",
       "    }\n",
       "\n",
       "    .dataframe thead th {\n",
       "        text-align: right;\n",
       "    }\n",
       "</style>\n",
       "<table border=\"1\" class=\"dataframe\">\n",
       "  <thead>\n",
       "    <tr style=\"text-align: right;\">\n",
       "      <th></th>\n",
       "      <th>TV</th>\n",
       "      <th>Radio</th>\n",
       "      <th>Newspaper</th>\n",
       "      <th>Sales</th>\n",
       "    </tr>\n",
       "  </thead>\n",
       "  <tbody>\n",
       "    <tr>\n",
       "      <th>count</th>\n",
       "      <td>200.000000</td>\n",
       "      <td>200.000000</td>\n",
       "      <td>200.000000</td>\n",
       "      <td>200.000000</td>\n",
       "    </tr>\n",
       "    <tr>\n",
       "      <th>mean</th>\n",
       "      <td>147.042500</td>\n",
       "      <td>23.264000</td>\n",
       "      <td>30.554000</td>\n",
       "      <td>15.130500</td>\n",
       "    </tr>\n",
       "    <tr>\n",
       "      <th>std</th>\n",
       "      <td>85.854236</td>\n",
       "      <td>14.846809</td>\n",
       "      <td>21.778621</td>\n",
       "      <td>5.283892</td>\n",
       "    </tr>\n",
       "    <tr>\n",
       "      <th>min</th>\n",
       "      <td>0.700000</td>\n",
       "      <td>0.000000</td>\n",
       "      <td>0.300000</td>\n",
       "      <td>1.600000</td>\n",
       "    </tr>\n",
       "    <tr>\n",
       "      <th>25%</th>\n",
       "      <td>74.375000</td>\n",
       "      <td>9.975000</td>\n",
       "      <td>12.750000</td>\n",
       "      <td>11.000000</td>\n",
       "    </tr>\n",
       "    <tr>\n",
       "      <th>50%</th>\n",
       "      <td>149.750000</td>\n",
       "      <td>22.900000</td>\n",
       "      <td>25.750000</td>\n",
       "      <td>16.000000</td>\n",
       "    </tr>\n",
       "    <tr>\n",
       "      <th>75%</th>\n",
       "      <td>218.825000</td>\n",
       "      <td>36.525000</td>\n",
       "      <td>45.100000</td>\n",
       "      <td>19.050000</td>\n",
       "    </tr>\n",
       "    <tr>\n",
       "      <th>max</th>\n",
       "      <td>296.400000</td>\n",
       "      <td>49.600000</td>\n",
       "      <td>114.000000</td>\n",
       "      <td>27.000000</td>\n",
       "    </tr>\n",
       "  </tbody>\n",
       "</table>\n",
       "</div>"
      ],
      "text/plain": [
       "               TV       Radio   Newspaper       Sales\n",
       "count  200.000000  200.000000  200.000000  200.000000\n",
       "mean   147.042500   23.264000   30.554000   15.130500\n",
       "std     85.854236   14.846809   21.778621    5.283892\n",
       "min      0.700000    0.000000    0.300000    1.600000\n",
       "25%     74.375000    9.975000   12.750000   11.000000\n",
       "50%    149.750000   22.900000   25.750000   16.000000\n",
       "75%    218.825000   36.525000   45.100000   19.050000\n",
       "max    296.400000   49.600000  114.000000   27.000000"
      ]
     },
     "execution_count": 13,
     "metadata": {},
     "output_type": "execute_result"
    }
   ],
   "source": [
    "df.describe()"
   ]
  },
  {
   "cell_type": "code",
   "execution_count": 14,
   "id": "8f149ac3",
   "metadata": {},
   "outputs": [
    {
     "data": {
      "text/plain": [
       "<AxesSubplot:title={'center':'Sales'}, xlabel='TV'>"
      ]
     },
     "execution_count": 14,
     "metadata": {},
     "output_type": "execute_result"
    },
    {
     "data": {
      "image/png": "[encoded data removed]",
      "text/plain": [
       "<Figure size 640x480 with 1 Axes>"
      ]
     },
     "metadata": {},
     "output_type": "display_data"
    }
   ],
   "source": [
    "df.boxplot(column='Sales',by = 'TV')"
   ]
  },
  {
   "cell_type": "code",
   "execution_count": 16,
   "id": "6e1b549e",
   "metadata": {},
   "outputs": [
    {
     "data": {
      "text/plain": [
       "<AxesSubplot:title={'center':'Sales'}, xlabel='Radio'>"
      ]
     },
     "execution_count": 16,
     "metadata": {},
     "output_type": "execute_result"
    },
    {
     "data": {
      "image/png": "[encoded data removed]",
      "text/plain": [
       "<Figure size 640x480 with 1 Axes>"
      ]
     },
     "metadata": {},
     "output_type": "display_data"
    }
   ],
   "source": [
    "df.boxplot(column='Sales',by = 'Radio')"
   ]
  },
  {
   "cell_type": "code",
   "execution_count": 17,
   "id": "1b46cbcd",
   "metadata": {},
   "outputs": [
    {
     "data": {
      "text/plain": [
       "<AxesSubplot:title={'center':'Sales'}, xlabel='Newspaper'>"
      ]
     },
     "execution_count": 17,
     "metadata": {},
     "output_type": "execute_result"
    },
    {
     "data": {
      "image/png": "[encoded data removed]",
      "text/plain": [
       "<Figure size 640x480 with 1 Axes>"
      ]
     },
     "metadata": {},
     "output_type": "display_data"
    }
   ],
   "source": [
    "df.boxplot(column='Sales',by = 'Newspaper')"
   ]
  },
  {
   "cell_type": "code",
   "execution_count": 18,
   "id": "9e5c61c7",
   "metadata": {},
   "outputs": [
    {
     "data": {
      "text/plain": [
       "<AxesSubplot:xlabel='TV', ylabel='Count'>"
      ]
     },
     "execution_count": 18,
     "metadata": {},
     "output_type": "execute_result"
    },
    {
     "data": {
      "image/png": "[encoded data removed]",
      "text/plain": [
       "<Figure size 1000x600 with 1 Axes>"
      ]
     },
     "metadata": {},
     "output_type": "display_data"
    }
   ],
   "source": [
    "plt.figure(figsize=(10,6))\n",
    "sns.histplot(data=df, x ='TV',bins = 10)"
   ]
  },
  {
   "cell_type": "code",
   "execution_count": 19,
   "id": "7711e632",
   "metadata": {},
   "outputs": [
    {
     "data": {
      "text/plain": [
       "<AxesSubplot:xlabel='Radio', ylabel='Count'>"
      ]
     },
     "execution_count": 19,
     "metadata": {},
     "output_type": "execute_result"
    },
    {
     "data": {
      "image/png": "[encoded data removed]",
      "text/plain": [
       "<Figure size 1000x600 with 1 Axes>"
      ]
     },
     "metadata": {},
     "output_type": "display_data"
    }
   ],
   "source": [
    "plt.figure(figsize=(10,6))\n",
    "sns.histplot(data=df, x ='Radio',bins = 10)"
   ]
  },
  {
   "cell_type": "code",
   "execution_count": 20,
   "id": "7fc4de2b",
   "metadata": {},
   "outputs": [
    {
     "data": {
      "text/plain": [
       "<AxesSubplot:xlabel='Newspaper', ylabel='Count'>"
      ]
     },
     "execution_count": 20,
     "metadata": {},
     "output_type": "execute_result"
    },
    {
     "data": {
      "image/png": "[encoded data removed]",
      "text/plain": [
       "<Figure size 1000x600 with 1 Axes>"
      ]
     },
     "metadata": {},
     "output_type": "display_data"
    }
   ],
   "source": [
    "plt.figure(figsize=(10,6))\n",
    "sns.histplot(data=df, x ='Newspaper',bins = 10)"
   ]
  },
  {
   "cell_type": "code",
   "execution_count": 21,
   "id": "0f0bf890",
   "metadata": {},
   "outputs": [
    {
     "data": {
      "text/plain": [
       "(array([  1.,   1.,   1.,   7.,  10.,  18.,  46.,  80.,  84., 116., 150.,\n",
       "        142., 120.,  87.,  63.,  33.,  18.,  16.,   5.,   2.]),\n",
       " array([-3.75858082, -3.41083355, -3.06308627, -2.71533899, -2.36759171,\n",
       "        -2.01984443, -1.67209716, -1.32434988, -0.9766026 , -0.62885532,\n",
       "        -0.28110805,  0.06663923,  0.41438651,  0.76213379,  1.10988106,\n",
       "         1.45762834,  1.80537562,  2.1531229 ,  2.50087017,  2.84861745,\n",
       "         3.19636473]),\n",
       " <BarContainer object of 20 artists>)"
      ]
     },
     "execution_count": 21,
     "metadata": {},
     "output_type": "execute_result"
    },
    {
     "data": {
      "image/png": "[encoded data removed]",
      "text/plain": [
       "<Figure size 640x480 with 1 Axes>"
      ]
     },
     "metadata": {},
     "output_type": "display_data"
    }
   ],
   "source": [
    "data = np.random.randn(1000)  \n",
    "plt.hist(data, bins=20, color='green', alpha=0.7)"
   ]
  },
  {
   "cell_type": "code",
   "execution_count": 22,
   "id": "baf62ae0",
   "metadata": {
    "execution": {
     "iopub.execute_input": "2023-02-17T06:56:26.806554Z",
     "iopub.status.busy": "2023-02-17T06:56:26.805135Z",
     "iopub.status.idle": "2023-02-17T06:56:27.098677Z",
     "shell.execute_reply": "2023-02-17T06:56:27.097356Z"
    },
    "papermill": {
     "duration": 0.311301,
     "end_time": "2023-02-17T06:56:27.101351",
     "exception": false,
     "start_time": "2023-02-17T06:56:26.790050",
     "status": "completed"
    },
    "scrolled": false,
    "tags": []
   },
   "outputs": [
    {
     "data": {
      "text/plain": [
       "<AxesSubplot:>"
      ]
     },
     "execution_count": 22,
     "metadata": {},
     "output_type": "execute_result"
    },
    {
     "data": {
      "image/png": "[encoded data removed]",
      "text/plain": [
       "<Figure size 640x480 with 1 Axes>"
      ]
     },
     "metadata": {},
     "output_type": "display_data"
    }
   ],
   "source": [
    "sns.boxplot(data=df)"
   ]
  },
  {
   "cell_type": "code",
   "execution_count": 23,
   "id": "db50be07",
   "metadata": {
    "execution": {
     "iopub.execute_input": "2023-02-17T06:56:27.132124Z",
     "iopub.status.busy": "2023-02-17T06:56:27.131008Z",
     "iopub.status.idle": "2023-02-17T06:56:27.391193Z",
     "shell.execute_reply": "2023-02-17T06:56:27.389946Z"
    },
    "papermill": {
     "duration": 0.278715,
     "end_time": "2023-02-17T06:56:27.394113",
     "exception": false,
     "start_time": "2023-02-17T06:56:27.115398",
     "status": "completed"
    },
    "tags": []
   },
   "outputs": [
    {
     "data": {
      "text/plain": [
       "<AxesSubplot:xlabel='Newspaper', ylabel='Sales'>"
      ]
     },
     "execution_count": 23,
     "metadata": {},
     "output_type": "execute_result"
    },
    {
     "data": {
      "image/png": "[encoded data removed]",
      "text/plain": [
       "<Figure size 640x480 with 1 Axes>"
      ]
     },
     "metadata": {},
     "output_type": "display_data"
    }
   ],
   "source": [
    "sns.scatterplot(x = 'Newspaper',y = 'Sales',data = df)"
   ]
  },
  {
   "cell_type": "code",
   "execution_count": 24,
   "id": "f42d8bb9",
   "metadata": {
    "execution": {
     "iopub.execute_input": "2023-02-17T06:56:27.426521Z",
     "iopub.status.busy": "2023-02-17T06:56:27.425232Z",
     "iopub.status.idle": "2023-02-17T06:56:27.430779Z",
     "shell.execute_reply": "2023-02-17T06:56:27.429769Z"
    },
    "papermill": {
     "duration": 0.024339,
     "end_time": "2023-02-17T06:56:27.433289",
     "exception": false,
     "start_time": "2023-02-17T06:56:27.408950",
     "status": "completed"
    },
    "tags": []
   },
   "outputs": [],
   "source": [
    "# we analys above table and found 'Newspaper' featurs std curve is \n",
    "# skewed curve so outliers present in this two featurs"
   ]
  },
  {
   "cell_type": "markdown",
   "id": "de117162",
   "metadata": {
    "papermill": {
     "duration": 0.014395,
     "end_time": "2023-02-17T06:56:27.462655",
     "exception": false,
     "start_time": "2023-02-17T06:56:27.448260",
     "status": "completed"
    },
    "tags": []
   },
   "source": [
    "Remove Outliers"
   ]
  },
  {
   "cell_type": "code",
   "execution_count": 25,
   "id": "c2f3e2b5",
   "metadata": {
    "execution": {
     "iopub.execute_input": "2023-02-17T06:56:27.496543Z",
     "iopub.status.busy": "2023-02-17T06:56:27.495998Z",
     "iopub.status.idle": "2023-02-17T06:56:27.502933Z",
     "shell.execute_reply": "2023-02-17T06:56:27.501998Z"
    },
    "papermill": {
     "duration": 0.025251,
     "end_time": "2023-02-17T06:56:27.505062",
     "exception": false,
     "start_time": "2023-02-17T06:56:27.479811",
     "status": "completed"
    },
    "tags": []
   },
   "outputs": [],
   "source": [
    "upper_limit = df.Newspaper.mean() + 3*df.Newspaper.std()\n",
    "lower_limit = df.Newspaper.mean() - 3*df.Newspaper.std()"
   ]
  },
  {
   "cell_type": "code",
   "execution_count": 26,
   "id": "56505800",
   "metadata": {
    "execution": {
     "iopub.execute_input": "2023-02-17T06:56:27.536973Z",
     "iopub.status.busy": "2023-02-17T06:56:27.536475Z",
     "iopub.status.idle": "2023-02-17T06:56:27.551661Z",
     "shell.execute_reply": "2023-02-17T06:56:27.550408Z"
    },
    "papermill": {
     "duration": 0.034187,
     "end_time": "2023-02-17T06:56:27.554076",
     "exception": false,
     "start_time": "2023-02-17T06:56:27.519889",
     "status": "completed"
    },
    "tags": []
   },
   "outputs": [
    {
     "data": {
      "text/html": [
       "<div>\n",
       "<style scoped>\n",
       "    .dataframe tbody tr th:only-of-type {\n",
       "        vertical-align: middle;\n",
       "    }\n",
       "\n",
       "    .dataframe tbody tr th {\n",
       "        vertical-align: top;\n",
       "    }\n",
       "\n",
       "    .dataframe thead th {\n",
       "        text-align: right;\n",
       "    }\n",
       "</style>\n",
       "<table border=\"1\" class=\"dataframe\">\n",
       "  <thead>\n",
       "    <tr style=\"text-align: right;\">\n",
       "      <th></th>\n",
       "      <th>TV</th>\n",
       "      <th>Radio</th>\n",
       "      <th>Newspaper</th>\n",
       "      <th>Sales</th>\n",
       "    </tr>\n",
       "  </thead>\n",
       "  <tbody>\n",
       "    <tr>\n",
       "      <th>16</th>\n",
       "      <td>67.8</td>\n",
       "      <td>36.6</td>\n",
       "      <td>114.0</td>\n",
       "      <td>12.5</td>\n",
       "    </tr>\n",
       "    <tr>\n",
       "      <th>101</th>\n",
       "      <td>296.4</td>\n",
       "      <td>36.3</td>\n",
       "      <td>100.9</td>\n",
       "      <td>23.8</td>\n",
       "    </tr>\n",
       "  </tbody>\n",
       "</table>\n",
       "</div>"
      ],
      "text/plain": [
       "        TV  Radio  Newspaper  Sales\n",
       "16    67.8   36.6      114.0   12.5\n",
       "101  296.4   36.3      100.9   23.8"
      ]
     },
     "execution_count": 26,
     "metadata": {},
     "output_type": "execute_result"
    }
   ],
   "source": [
    "# show outliers rows\n",
    "\n",
    "df[(df.Newspaper > upper_limit) | (df.Newspaper < lower_limit)]"
   ]
  },
  {
   "cell_type": "code",
   "execution_count": 27,
   "id": "ddef0331",
   "metadata": {
    "execution": {
     "iopub.execute_input": "2023-02-17T06:56:27.586667Z",
     "iopub.status.busy": "2023-02-17T06:56:27.586168Z",
     "iopub.status.idle": "2023-02-17T06:56:27.593180Z",
     "shell.execute_reply": "2023-02-17T06:56:27.591916Z"
    },
    "papermill": {
     "duration": 0.026456,
     "end_time": "2023-02-17T06:56:27.595719",
     "exception": false,
     "start_time": "2023-02-17T06:56:27.569263",
     "status": "completed"
    },
    "tags": []
   },
   "outputs": [],
   "source": [
    "# remove rows which outliers is present\n",
    "\n",
    "df2 = df[~(df.Newspaper > upper_limit) | (df.Newspaper < lower_limit)]"
   ]
  },
  {
   "cell_type": "code",
   "execution_count": 28,
   "id": "e5562094",
   "metadata": {
    "execution": {
     "iopub.execute_input": "2023-02-17T06:56:27.627665Z",
     "iopub.status.busy": "2023-02-17T06:56:27.627181Z",
     "iopub.status.idle": "2023-02-17T06:56:27.644749Z",
     "shell.execute_reply": "2023-02-17T06:56:27.643519Z"
    },
    "papermill": {
     "duration": 0.036575,
     "end_time": "2023-02-17T06:56:27.647263",
     "exception": false,
     "start_time": "2023-02-17T06:56:27.610688",
     "status": "completed"
    },
    "tags": []
   },
   "outputs": [
    {
     "data": {
      "text/html": [
       "<div>\n",
       "<style scoped>\n",
       "    .dataframe tbody tr th:only-of-type {\n",
       "        vertical-align: middle;\n",
       "    }\n",
       "\n",
       "    .dataframe tbody tr th {\n",
       "        vertical-align: top;\n",
       "    }\n",
       "\n",
       "    .dataframe thead th {\n",
       "        text-align: right;\n",
       "    }\n",
       "</style>\n",
       "<table border=\"1\" class=\"dataframe\">\n",
       "  <thead>\n",
       "    <tr style=\"text-align: right;\">\n",
       "      <th></th>\n",
       "      <th>TV</th>\n",
       "      <th>Radio</th>\n",
       "      <th>Newspaper</th>\n",
       "      <th>Sales</th>\n",
       "    </tr>\n",
       "  </thead>\n",
       "  <tbody>\n",
       "    <tr>\n",
       "      <th>0</th>\n",
       "      <td>230.1</td>\n",
       "      <td>37.8</td>\n",
       "      <td>69.2</td>\n",
       "      <td>22.1</td>\n",
       "    </tr>\n",
       "    <tr>\n",
       "      <th>1</th>\n",
       "      <td>44.5</td>\n",
       "      <td>39.3</td>\n",
       "      <td>45.1</td>\n",
       "      <td>10.4</td>\n",
       "    </tr>\n",
       "    <tr>\n",
       "      <th>2</th>\n",
       "      <td>17.2</td>\n",
       "      <td>45.9</td>\n",
       "      <td>69.3</td>\n",
       "      <td>12.0</td>\n",
       "    </tr>\n",
       "    <tr>\n",
       "      <th>3</th>\n",
       "      <td>151.5</td>\n",
       "      <td>41.3</td>\n",
       "      <td>58.5</td>\n",
       "      <td>16.5</td>\n",
       "    </tr>\n",
       "    <tr>\n",
       "      <th>4</th>\n",
       "      <td>180.8</td>\n",
       "      <td>10.8</td>\n",
       "      <td>58.4</td>\n",
       "      <td>17.9</td>\n",
       "    </tr>\n",
       "    <tr>\n",
       "      <th>...</th>\n",
       "      <td>...</td>\n",
       "      <td>...</td>\n",
       "      <td>...</td>\n",
       "      <td>...</td>\n",
       "    </tr>\n",
       "    <tr>\n",
       "      <th>195</th>\n",
       "      <td>38.2</td>\n",
       "      <td>3.7</td>\n",
       "      <td>13.8</td>\n",
       "      <td>7.6</td>\n",
       "    </tr>\n",
       "    <tr>\n",
       "      <th>196</th>\n",
       "      <td>94.2</td>\n",
       "      <td>4.9</td>\n",
       "      <td>8.1</td>\n",
       "      <td>14.0</td>\n",
       "    </tr>\n",
       "    <tr>\n",
       "      <th>197</th>\n",
       "      <td>177.0</td>\n",
       "      <td>9.3</td>\n",
       "      <td>6.4</td>\n",
       "      <td>14.8</td>\n",
       "    </tr>\n",
       "    <tr>\n",
       "      <th>198</th>\n",
       "      <td>283.6</td>\n",
       "      <td>42.0</td>\n",
       "      <td>66.2</td>\n",
       "      <td>25.5</td>\n",
       "    </tr>\n",
       "    <tr>\n",
       "      <th>199</th>\n",
       "      <td>232.1</td>\n",
       "      <td>8.6</td>\n",
       "      <td>8.7</td>\n",
       "      <td>18.4</td>\n",
       "    </tr>\n",
       "  </tbody>\n",
       "</table>\n",
       "<p>198 rows × 4 columns</p>\n",
       "</div>"
      ],
      "text/plain": [
       "        TV  Radio  Newspaper  Sales\n",
       "0    230.1   37.8       69.2   22.1\n",
       "1     44.5   39.3       45.1   10.4\n",
       "2     17.2   45.9       69.3   12.0\n",
       "3    151.5   41.3       58.5   16.5\n",
       "4    180.8   10.8       58.4   17.9\n",
       "..     ...    ...        ...    ...\n",
       "195   38.2    3.7       13.8    7.6\n",
       "196   94.2    4.9        8.1   14.0\n",
       "197  177.0    9.3        6.4   14.8\n",
       "198  283.6   42.0       66.2   25.5\n",
       "199  232.1    8.6        8.7   18.4\n",
       "\n",
       "[198 rows x 4 columns]"
      ]
     },
     "execution_count": 28,
     "metadata": {},
     "output_type": "execute_result"
    }
   ],
   "source": [
    "df2"
   ]
  },
  {
   "cell_type": "code",
   "execution_count": 29,
   "id": "1a66e937",
   "metadata": {
    "execution": {
     "iopub.execute_input": "2023-02-17T06:56:27.680408Z",
     "iopub.status.busy": "2023-02-17T06:56:27.679904Z",
     "iopub.status.idle": "2023-02-17T06:56:27.938044Z",
     "shell.execute_reply": "2023-02-17T06:56:27.936702Z"
    },
    "papermill": {
     "duration": 0.277688,
     "end_time": "2023-02-17T06:56:27.940849",
     "exception": false,
     "start_time": "2023-02-17T06:56:27.663161",
     "status": "completed"
    },
    "tags": []
   },
   "outputs": [
    {
     "data": {
      "text/plain": [
       "<AxesSubplot:>"
      ]
     },
     "execution_count": 29,
     "metadata": {},
     "output_type": "execute_result"
    },
    {
     "data": {
      "image/png": "[encoded data removed]",
      "text/plain": [
       "<Figure size 640x480 with 1 Axes>"
      ]
     },
     "metadata": {},
     "output_type": "display_data"
    }
   ],
   "source": [
    "sns.boxplot(data=df2)"
   ]
  },
  {
   "cell_type": "code",
   "execution_count": 30,
   "id": "a6f7d5cf",
   "metadata": {
    "execution": {
     "iopub.execute_input": "2023-02-17T06:56:27.974873Z",
     "iopub.status.busy": "2023-02-17T06:56:27.974404Z",
     "iopub.status.idle": "2023-02-17T06:56:27.980187Z",
     "shell.execute_reply": "2023-02-17T06:56:27.978738Z"
    },
    "papermill": {
     "duration": 0.026106,
     "end_time": "2023-02-17T06:56:27.982721",
     "exception": false,
     "start_time": "2023-02-17T06:56:27.956615",
     "status": "completed"
    },
    "tags": []
   },
   "outputs": [],
   "source": [
    "# so in df2 dataframe no outliers presents"
   ]
  },
  {
   "cell_type": "markdown",
   "id": "54da520a",
   "metadata": {
    "papermill": {
     "duration": 0.015072,
     "end_time": "2023-02-17T06:56:28.013524",
     "exception": false,
     "start_time": "2023-02-17T06:56:27.998452",
     "status": "completed"
    },
    "tags": []
   },
   "source": [
    "Check All Features relation with Sales feature"
   ]
  },
  {
   "cell_type": "code",
   "execution_count": 31,
   "id": "fa08bca5",
   "metadata": {
    "execution": {
     "iopub.execute_input": "2023-02-17T06:56:28.046521Z",
     "iopub.status.busy": "2023-02-17T06:56:28.046038Z",
     "iopub.status.idle": "2023-02-17T06:56:28.299110Z",
     "shell.execute_reply": "2023-02-17T06:56:28.297679Z"
    },
    "papermill": {
     "duration": 0.273275,
     "end_time": "2023-02-17T06:56:28.302262",
     "exception": false,
     "start_time": "2023-02-17T06:56:28.028987",
     "status": "completed"
    },
    "tags": []
   },
   "outputs": [
    {
     "data": {
      "text/plain": [
       "<AxesSubplot:xlabel='TV', ylabel='Sales'>"
      ]
     },
     "execution_count": 31,
     "metadata": {},
     "output_type": "execute_result"
    },
    {
     "data": {
      "image/png": "[encoded data removed]",
      "text/plain": [
       "<Figure size 640x480 with 1 Axes>"
      ]
     },
     "metadata": {},
     "output_type": "display_data"
    }
   ],
   "source": [
    "sns.scatterplot(x = 'TV',y = 'Sales', data = df2)"
   ]
  },
  {
   "cell_type": "code",
   "execution_count": 32,
   "id": "0ace0a98",
   "metadata": {
    "execution": {
     "iopub.execute_input": "2023-02-17T06:56:28.337494Z",
     "iopub.status.busy": "2023-02-17T06:56:28.336942Z",
     "iopub.status.idle": "2023-02-17T06:56:28.343014Z",
     "shell.execute_reply": "2023-02-17T06:56:28.341586Z"
    },
    "papermill": {
     "duration": 0.026676,
     "end_time": "2023-02-17T06:56:28.345446",
     "exception": false,
     "start_time": "2023-02-17T06:56:28.318770",
     "status": "completed"
    },
    "tags": []
   },
   "outputs": [],
   "source": [
    "# this is Highly Positive relation"
   ]
  },
  {
   "cell_type": "code",
   "execution_count": 33,
   "id": "eb469e37",
   "metadata": {
    "execution": {
     "iopub.execute_input": "2023-02-17T06:56:28.380259Z",
     "iopub.status.busy": "2023-02-17T06:56:28.379503Z",
     "iopub.status.idle": "2023-02-17T06:56:28.638902Z",
     "shell.execute_reply": "2023-02-17T06:56:28.637514Z"
    },
    "papermill": {
     "duration": 0.280366,
     "end_time": "2023-02-17T06:56:28.641974",
     "exception": false,
     "start_time": "2023-02-17T06:56:28.361608",
     "status": "completed"
    },
    "tags": []
   },
   "outputs": [
    {
     "data": {
      "text/plain": [
       "<AxesSubplot:xlabel='Radio', ylabel='Sales'>"
      ]
     },
     "execution_count": 33,
     "metadata": {},
     "output_type": "execute_result"
    },
    {
     "data": {
      "image/png": "[encoded data removed]",
      "text/plain": [
       "<Figure size 640x480 with 1 Axes>"
      ]
     },
     "metadata": {},
     "output_type": "display_data"
    }
   ],
   "source": [
    "sns.scatterplot(x = 'Radio',y = 'Sales', data = df2)"
   ]
  },
  {
   "cell_type": "code",
   "execution_count": 34,
   "id": "c698cfc2",
   "metadata": {
    "execution": {
     "iopub.execute_input": "2023-02-17T06:56:28.678783Z",
     "iopub.status.busy": "2023-02-17T06:56:28.678275Z",
     "iopub.status.idle": "2023-02-17T06:56:28.683575Z",
     "shell.execute_reply": "2023-02-17T06:56:28.682162Z"
    },
    "papermill": {
     "duration": 0.027165,
     "end_time": "2023-02-17T06:56:28.686056",
     "exception": false,
     "start_time": "2023-02-17T06:56:28.658891",
     "status": "completed"
    },
    "tags": []
   },
   "outputs": [],
   "source": [
    "# this is polynomial relation"
   ]
  },
  {
   "cell_type": "code",
   "execution_count": 35,
   "id": "6fa50d1d",
   "metadata": {
    "execution": {
     "iopub.execute_input": "2023-02-17T06:56:28.721253Z",
     "iopub.status.busy": "2023-02-17T06:56:28.720814Z",
     "iopub.status.idle": "2023-02-17T06:56:28.966560Z",
     "shell.execute_reply": "2023-02-17T06:56:28.965217Z"
    },
    "papermill": {
     "duration": 0.266796,
     "end_time": "2023-02-17T06:56:28.969479",
     "exception": false,
     "start_time": "2023-02-17T06:56:28.702683",
     "status": "completed"
    },
    "tags": []
   },
   "outputs": [
    {
     "data": {
      "text/plain": [
       "<AxesSubplot:xlabel='Newspaper', ylabel='Sales'>"
      ]
     },
     "execution_count": 35,
     "metadata": {},
     "output_type": "execute_result"
    },
    {
     "data": {
      "image/png": "[encoded data removed]",
      "text/plain": [
       "<Figure size 640x480 with 1 Axes>"
      ]
     },
     "metadata": {},
     "output_type": "display_data"
    }
   ],
   "source": [
    "sns.scatterplot(x = 'Newspaper',y = 'Sales', data = df2)"
   ]
  },
  {
   "cell_type": "code",
   "execution_count": 36,
   "id": "15d5321a",
   "metadata": {
    "execution": {
     "iopub.execute_input": "2023-02-17T06:56:29.007109Z",
     "iopub.status.busy": "2023-02-17T06:56:29.006677Z",
     "iopub.status.idle": "2023-02-17T06:56:29.010701Z",
     "shell.execute_reply": "2023-02-17T06:56:29.009865Z"
    },
    "papermill": {
     "duration": 0.025908,
     "end_time": "2023-02-17T06:56:29.012901",
     "exception": false,
     "start_time": "2023-02-17T06:56:28.986993",
     "status": "completed"
    },
    "tags": []
   },
   "outputs": [],
   "source": [
    "# this is polynomial relation"
   ]
  },
  {
   "cell_type": "markdown",
   "id": "247948cb",
   "metadata": {
    "papermill": {
     "duration": 0.016951,
     "end_time": "2023-02-17T06:56:29.047913",
     "exception": false,
     "start_time": "2023-02-17T06:56:29.030962",
     "status": "completed"
    },
    "tags": []
   },
   "source": [
    "Feature selection"
   ]
  },
  {
   "cell_type": "code",
   "execution_count": 37,
   "id": "ee16c3a1",
   "metadata": {
    "execution": {
     "iopub.execute_input": "2023-02-17T06:56:29.084631Z",
     "iopub.status.busy": "2023-02-17T06:56:29.083799Z",
     "iopub.status.idle": "2023-02-17T06:56:29.405250Z",
     "shell.execute_reply": "2023-02-17T06:56:29.403910Z"
    },
    "papermill": {
     "duration": 0.343109,
     "end_time": "2023-02-17T06:56:29.408090",
     "exception": false,
     "start_time": "2023-02-17T06:56:29.064981",
     "status": "completed"
    },
    "tags": []
   },
   "outputs": [
    {
     "data": {
      "text/plain": [
       "<AxesSubplot:>"
      ]
     },
     "execution_count": 37,
     "metadata": {},
     "output_type": "execute_result"
    },
    {
     "data": {
      "image/png": "[encoded data removed]",
      "text/plain": [
       "<Figure size 640x480 with 2 Axes>"
      ]
     },
     "metadata": {},
     "output_type": "display_data"
    }
   ],
   "source": [
    "# we are use HeatMap and pearson corelation factor for featur selection\n",
    "\n",
    "sns.heatmap(df.corr(),annot= True)"
   ]
  },
  {
   "cell_type": "code",
   "execution_count": 38,
   "id": "6a86c16a",
   "metadata": {
    "execution": {
     "iopub.execute_input": "2023-02-17T06:56:29.445983Z",
     "iopub.status.busy": "2023-02-17T06:56:29.445468Z",
     "iopub.status.idle": "2023-02-17T06:56:29.451116Z",
     "shell.execute_reply": "2023-02-17T06:56:29.449617Z"
    },
    "papermill": {
     "duration": 0.027743,
     "end_time": "2023-02-17T06:56:29.453721",
     "exception": false,
     "start_time": "2023-02-17T06:56:29.425978",
     "status": "completed"
    },
    "tags": []
   },
   "outputs": [],
   "source": [
    "# so we study above matrix and we analyse all feature are important for\n",
    "# price prediction"
   ]
  },
  {
   "cell_type": "code",
   "execution_count": 39,
   "id": "e3328ba8",
   "metadata": {
    "execution": {
     "iopub.execute_input": "2023-02-17T06:56:29.491976Z",
     "iopub.status.busy": "2023-02-17T06:56:29.491091Z",
     "iopub.status.idle": "2023-02-17T06:56:29.498100Z",
     "shell.execute_reply": "2023-02-17T06:56:29.496816Z"
    },
    "papermill": {
     "duration": 0.028864,
     "end_time": "2023-02-17T06:56:29.500485",
     "exception": false,
     "start_time": "2023-02-17T06:56:29.471621",
     "status": "completed"
    },
    "tags": []
   },
   "outputs": [],
   "source": [
    "x = df2.drop('Sales',axis = 1)\n",
    "y = df2['Sales']"
   ]
  },
  {
   "cell_type": "code",
   "execution_count": 40,
   "id": "de6a5a71",
   "metadata": {
    "execution": {
     "iopub.execute_input": "2023-02-17T06:56:29.539221Z",
     "iopub.status.busy": "2023-02-17T06:56:29.538235Z",
     "iopub.status.idle": "2023-02-17T06:56:29.727699Z",
     "shell.execute_reply": "2023-02-17T06:56:29.726321Z"
    },
    "papermill": {
     "duration": 0.211521,
     "end_time": "2023-02-17T06:56:29.730571",
     "exception": false,
     "start_time": "2023-02-17T06:56:29.519050",
     "status": "completed"
    },
    "tags": []
   },
   "outputs": [],
   "source": [
    "# split data for training and testing perpose\n",
    "\n",
    "from sklearn.model_selection import train_test_split"
   ]
  },
  {
   "cell_type": "code",
   "execution_count": 41,
   "id": "ed48420f",
   "metadata": {
    "execution": {
     "iopub.execute_input": "2023-02-17T06:56:29.769883Z",
     "iopub.status.busy": "2023-02-17T06:56:29.769389Z",
     "iopub.status.idle": "2023-02-17T06:56:29.781363Z",
     "shell.execute_reply": "2023-02-17T06:56:29.779948Z"
    },
    "papermill": {
     "duration": 0.03436,
     "end_time": "2023-02-17T06:56:29.783813",
     "exception": false,
     "start_time": "2023-02-17T06:56:29.749453",
     "status": "completed"
    },
    "tags": []
   },
   "outputs": [
    {
     "data": {
      "text/plain": [
       "((148, 3), (50, 3), (148,), (50,))"
      ]
     },
     "execution_count": 41,
     "metadata": {},
     "output_type": "execute_result"
    }
   ],
   "source": [
    "x_train,x_test, y_train,y_test = train_test_split(x,y, test_size=0.25,random_state=5)\n",
    "x_train.shape,x_test.shape, y_train.shape,y_test.shape "
   ]
  },
  {
   "cell_type": "markdown",
   "id": "b3958ae9",
   "metadata": {
    "papermill": {
     "duration": 0.018652,
     "end_time": "2023-02-17T06:56:29.820900",
     "exception": false,
     "start_time": "2023-02-17T06:56:29.802248",
     "status": "completed"
    },
    "tags": []
   },
   "source": [
    "model training"
   ]
  },
  {
   "cell_type": "code",
   "execution_count": 42,
   "id": "372b417b",
   "metadata": {
    "execution": {
     "iopub.execute_input": "2023-02-17T06:56:29.859906Z",
     "iopub.status.busy": "2023-02-17T06:56:29.859454Z",
     "iopub.status.idle": "2023-02-17T06:56:29.930323Z",
     "shell.execute_reply": "2023-02-17T06:56:29.929046Z"
    },
    "papermill": {
     "duration": 0.094263,
     "end_time": "2023-02-17T06:56:29.933481",
     "exception": false,
     "start_time": "2023-02-17T06:56:29.839218",
     "status": "completed"
    },
    "tags": []
   },
   "outputs": [],
   "source": [
    "from sklearn.linear_model import LinearRegression"
   ]
  },
  {
   "cell_type": "code",
   "execution_count": 43,
   "id": "66af2a87",
   "metadata": {
    "execution": {
     "iopub.execute_input": "2023-02-17T06:56:29.971966Z",
     "iopub.status.busy": "2023-02-17T06:56:29.971504Z",
     "iopub.status.idle": "2023-02-17T06:56:29.989494Z",
     "shell.execute_reply": "2023-02-17T06:56:29.988290Z"
    },
    "papermill": {
     "duration": 0.040527,
     "end_time": "2023-02-17T06:56:29.992215",
     "exception": false,
     "start_time": "2023-02-17T06:56:29.951688",
     "status": "completed"
    },
    "tags": []
   },
   "outputs": [
    {
     "data": {
      "text/plain": [
       "LinearRegression()"
      ]
     },
     "execution_count": 43,
     "metadata": {},
     "output_type": "execute_result"
    }
   ],
   "source": [
    "lin_model = LinearRegression()\n",
    "lin_model.fit(x_train,y_train)"
   ]
  },
  {
   "cell_type": "markdown",
   "id": "465c64e8",
   "metadata": {
    "papermill": {
     "duration": 0.018382,
     "end_time": "2023-02-17T06:56:30.029212",
     "exception": false,
     "start_time": "2023-02-17T06:56:30.010830",
     "status": "completed"
    },
    "tags": []
   },
   "source": [
    "testing data"
   ]
  },
  {
   "cell_type": "code",
   "execution_count": 44,
   "id": "6441d7bb",
   "metadata": {
    "execution": {
     "iopub.execute_input": "2023-02-17T06:56:30.068079Z",
     "iopub.status.busy": "2023-02-17T06:56:30.067615Z",
     "iopub.status.idle": "2023-02-17T06:56:30.072921Z",
     "shell.execute_reply": "2023-02-17T06:56:30.071702Z"
    },
    "papermill": {
     "duration": 0.028037,
     "end_time": "2023-02-17T06:56:30.075509",
     "exception": false,
     "start_time": "2023-02-17T06:56:30.047472",
     "status": "completed"
    },
    "tags": []
   },
   "outputs": [],
   "source": [
    "from sklearn.metrics import mean_absolute_error,mean_squared_error,r2_score"
   ]
  },
  {
   "cell_type": "code",
   "execution_count": 45,
   "id": "4026ca27",
   "metadata": {
    "execution": {
     "iopub.execute_input": "2023-02-17T06:56:30.113803Z",
     "iopub.status.busy": "2023-02-17T06:56:30.113009Z",
     "iopub.status.idle": "2023-02-17T06:56:30.124979Z",
     "shell.execute_reply": "2023-02-17T06:56:30.123314Z"
    },
    "papermill": {
     "duration": 0.033873,
     "end_time": "2023-02-17T06:56:30.127508",
     "exception": false,
     "start_time": "2023-02-17T06:56:30.093635",
     "status": "completed"
    },
    "tags": []
   },
   "outputs": [
    {
     "name": "stdout",
     "output_type": "stream",
     "text": [
      "MSE = 2.7498050755460777\n",
      "RMSE = 1.6582536222020072\n",
      "MAE = 1.2544246350604447\n",
      "R-squre value = 0.8963942384652963\n"
     ]
    }
   ],
   "source": [
    "y_pred = lin_model.predict(x_test)\n",
    "\n",
    "mse = mean_squared_error(y_test,y_pred)  \n",
    "print(f\"MSE = {mse}\")\n",
    "print(f\"RMSE = {np.sqrt(mse)}\")\n",
    "\n",
    "mae = mean_absolute_error(y_test,y_pred)\n",
    "print(f\"MAE = {mae}\")\n",
    "\n",
    "r2 = r2_score(y_test,y_pred)\n",
    "print(f\"R-squre value = {r2}\")\n",
    "    "
   ]
  },
  {
   "cell_type": "markdown",
   "id": "a25da30f",
   "metadata": {
    "papermill": {
     "duration": 0.017551,
     "end_time": "2023-02-17T06:56:30.163158",
     "exception": false,
     "start_time": "2023-02-17T06:56:30.145607",
     "status": "completed"
    },
    "tags": []
   },
   "source": [
    "training data"
   ]
  },
  {
   "cell_type": "code",
   "execution_count": 46,
   "id": "ed9243ed",
   "metadata": {
    "execution": {
     "iopub.execute_input": "2023-02-17T06:56:30.203761Z",
     "iopub.status.busy": "2023-02-17T06:56:30.202634Z",
     "iopub.status.idle": "2023-02-17T06:56:30.213782Z",
     "shell.execute_reply": "2023-02-17T06:56:30.212934Z"
    },
    "papermill": {
     "duration": 0.035031,
     "end_time": "2023-02-17T06:56:30.216474",
     "exception": false,
     "start_time": "2023-02-17T06:56:30.181443",
     "status": "completed"
    },
    "tags": []
   },
   "outputs": [
    {
     "name": "stdout",
     "output_type": "stream",
     "text": [
      "Training data metrx\n",
      "MSE = 2.7587674989639384\n",
      "RMSE = 1.6609537919412263\n",
      "MAE = 1.2567499166807055\n",
      "R-squre value = 0.8976508139914867\n"
     ]
    }
   ],
   "source": [
    "y_pred_train = lin_model.predict(x_train)\n",
    "\n",
    "print(\"Training data metrx\")\n",
    "\n",
    "mse = mean_squared_error(y_train,y_pred_train) \n",
    "print(f\"MSE = {mse}\")\n",
    "print(f\"RMSE = {np.sqrt(mse)}\")\n",
    "\n",
    "mae = mean_absolute_error(y_train,y_pred_train)\n",
    "print(f\"MAE = {mae}\")\n",
    "\n",
    "r2 = r2_score(y_train,y_pred_train)\n",
    "print(f\"R-squre value = {r2}\")"
   ]
  },
  {
   "cell_type": "markdown",
   "id": "8fa5ea2d",
   "metadata": {
    "papermill": {
     "duration": 0.017728,
     "end_time": "2023-02-17T06:56:30.252335",
     "exception": false,
     "start_time": "2023-02-17T06:56:30.234607",
     "status": "completed"
    },
    "tags": []
   },
   "source": [
    "conclusion"
   ]
  },
  {
   "cell_type": "code",
   "execution_count": 47,
   "id": "beb2687a",
   "metadata": {
    "execution": {
     "iopub.execute_input": "2023-02-17T06:56:30.292265Z",
     "iopub.status.busy": "2023-02-17T06:56:30.291774Z",
     "iopub.status.idle": "2023-02-17T06:56:30.296565Z",
     "shell.execute_reply": "2023-02-17T06:56:30.295449Z"
    },
    "papermill": {
     "duration": 0.027019,
     "end_time": "2023-02-17T06:56:30.298950",
     "exception": false,
     "start_time": "2023-02-17T06:56:30.271931",
     "status": "completed"
    },
    "tags": []
   },
   "outputs": [],
   "source": [
    "# So in TRAINING TIME our model accuracy is 90% and TESTING time our\n",
    "#model accuracy is 89%"
   ]
  },
  {
   "cell_type": "markdown",
   "id": "8be3c55c",
   "metadata": {
    "papermill": {
     "duration": 0.018105,
     "end_time": "2023-02-17T06:56:30.336037",
     "exception": false,
     "start_time": "2023-02-17T06:56:30.317932",
     "status": "completed"
    },
    "tags": []
   },
   "source": [
    "USER TEST fuction:"
   ]
  },
  {
   "cell_type": "code",
   "execution_count": 48,
   "id": "4c0ab180",
   "metadata": {
    "execution": {
     "iopub.execute_input": "2023-02-17T06:56:30.374220Z",
     "iopub.status.busy": "2023-02-17T06:56:30.373698Z",
     "iopub.status.idle": "2023-02-17T06:56:30.386492Z",
     "shell.execute_reply": "2023-02-17T06:56:30.385591Z"
    },
    "papermill": {
     "duration": 0.034553,
     "end_time": "2023-02-17T06:56:30.388660",
     "exception": false,
     "start_time": "2023-02-17T06:56:30.354107",
     "status": "completed"
    },
    "tags": []
   },
   "outputs": [
    {
     "data": {
      "text/html": [
       "<div>\n",
       "<style scoped>\n",
       "    .dataframe tbody tr th:only-of-type {\n",
       "        vertical-align: middle;\n",
       "    }\n",
       "\n",
       "    .dataframe tbody tr th {\n",
       "        vertical-align: top;\n",
       "    }\n",
       "\n",
       "    .dataframe thead th {\n",
       "        text-align: right;\n",
       "    }\n",
       "</style>\n",
       "<table border=\"1\" class=\"dataframe\">\n",
       "  <thead>\n",
       "    <tr style=\"text-align: right;\">\n",
       "      <th></th>\n",
       "      <th>125</th>\n",
       "    </tr>\n",
       "  </thead>\n",
       "  <tbody>\n",
       "    <tr>\n",
       "      <th>TV</th>\n",
       "      <td>87.2</td>\n",
       "    </tr>\n",
       "    <tr>\n",
       "      <th>Radio</th>\n",
       "      <td>11.8</td>\n",
       "    </tr>\n",
       "    <tr>\n",
       "      <th>Newspaper</th>\n",
       "      <td>25.9</td>\n",
       "    </tr>\n",
       "  </tbody>\n",
       "</table>\n",
       "</div>"
      ],
      "text/plain": [
       "            125\n",
       "TV         87.2\n",
       "Radio      11.8\n",
       "Newspaper  25.9"
      ]
     },
     "execution_count": 48,
     "metadata": {},
     "output_type": "execute_result"
    }
   ],
   "source": [
    "x_train.head(1).T"
   ]
  },
  {
   "cell_type": "code",
   "execution_count": 49,
   "id": "df61df3b",
   "metadata": {
    "execution": {
     "iopub.execute_input": "2023-02-17T06:56:30.427330Z",
     "iopub.status.busy": "2023-02-17T06:56:30.426870Z",
     "iopub.status.idle": "2023-02-17T06:56:30.432589Z",
     "shell.execute_reply": "2023-02-17T06:56:30.431313Z"
    },
    "papermill": {
     "duration": 0.028203,
     "end_time": "2023-02-17T06:56:30.435250",
     "exception": false,
     "start_time": "2023-02-17T06:56:30.407047",
     "status": "completed"
    },
    "tags": []
   },
   "outputs": [],
   "source": [
    "TV = 87.2\n",
    "Radio = 11.8\n",
    "Newspaper = 25.9"
   ]
  },
  {
   "cell_type": "code",
   "execution_count": 50,
   "id": "28da325c",
   "metadata": {
    "execution": {
     "iopub.execute_input": "2023-02-17T06:56:30.473768Z",
     "iopub.status.busy": "2023-02-17T06:56:30.473274Z",
     "iopub.status.idle": "2023-02-17T06:56:30.479018Z",
     "shell.execute_reply": "2023-02-17T06:56:30.477956Z"
    },
    "papermill": {
     "duration": 0.027883,
     "end_time": "2023-02-17T06:56:30.481344",
     "exception": false,
     "start_time": "2023-02-17T06:56:30.453461",
     "status": "completed"
    },
    "tags": []
   },
   "outputs": [],
   "source": [
    "# column_list:\n",
    "import numpy as np\n",
    "\n",
    "array = np.array([TV,Radio,Newspaper],ndmin = 2)"
   ]
  },
  {
   "cell_type": "code",
   "execution_count": 51,
   "id": "14bbdbec",
   "metadata": {
    "execution": {
     "iopub.execute_input": "2023-02-17T06:56:30.520364Z",
     "iopub.status.busy": "2023-02-17T06:56:30.519841Z",
     "iopub.status.idle": "2023-02-17T06:56:30.528837Z",
     "shell.execute_reply": "2023-02-17T06:56:30.527464Z"
    },
    "papermill": {
     "duration": 0.031816,
     "end_time": "2023-02-17T06:56:30.531540",
     "exception": false,
     "start_time": "2023-02-17T06:56:30.499724",
     "status": "completed"
    },
    "tags": []
   },
   "outputs": [
    {
     "name": "stdout",
     "output_type": "stream",
     "text": [
      "Sales : [10.87368312]\n"
     ]
    },
    {
     "name": "stderr",
     "output_type": "stream",
     "text": [
      "C:\\ProgramData\\Anaconda3\\lib\\site-packages\\sklearn\\base.py:450: UserWarning: X does not have valid feature names, but LinearRegression was fitted with feature names\n",
      "  warnings.warn(\n"
     ]
    }
   ],
   "source": [
    "Sales = lin_model.predict(array)\n",
    "print(\"Sales :\",Sales)"
   ]
  },
  {
   "cell_type": "code",
   "execution_count": 52,
   "id": "7dc5c1b8",
   "metadata": {
    "execution": {
     "iopub.execute_input": "2023-02-17T06:56:30.570926Z",
     "iopub.status.busy": "2023-02-17T06:56:30.570429Z",
     "iopub.status.idle": "2023-02-17T06:56:30.584079Z",
     "shell.execute_reply": "2023-02-17T06:56:30.582855Z"
    },
    "papermill": {
     "duration": 0.036248,
     "end_time": "2023-02-17T06:56:30.586609",
     "exception": false,
     "start_time": "2023-02-17T06:56:30.550361",
     "status": "completed"
    },
    "tags": []
   },
   "outputs": [
    {
     "data": {
      "text/html": [
       "<div>\n",
       "<style scoped>\n",
       "    .dataframe tbody tr th:only-of-type {\n",
       "        vertical-align: middle;\n",
       "    }\n",
       "\n",
       "    .dataframe tbody tr th {\n",
       "        vertical-align: top;\n",
       "    }\n",
       "\n",
       "    .dataframe thead th {\n",
       "        text-align: right;\n",
       "    }\n",
       "</style>\n",
       "<table border=\"1\" class=\"dataframe\">\n",
       "  <thead>\n",
       "    <tr style=\"text-align: right;\">\n",
       "      <th></th>\n",
       "      <th>TV</th>\n",
       "      <th>Radio</th>\n",
       "      <th>Newspaper</th>\n",
       "      <th>Sales</th>\n",
       "    </tr>\n",
       "  </thead>\n",
       "  <tbody>\n",
       "    <tr>\n",
       "      <th>125</th>\n",
       "      <td>87.2</td>\n",
       "      <td>11.8</td>\n",
       "      <td>25.9</td>\n",
       "      <td>10.6</td>\n",
       "    </tr>\n",
       "  </tbody>\n",
       "</table>\n",
       "</div>"
      ],
      "text/plain": [
       "       TV  Radio  Newspaper  Sales\n",
       "125  87.2   11.8       25.9   10.6"
      ]
     },
     "execution_count": 52,
     "metadata": {},
     "output_type": "execute_result"
    }
   ],
   "source": [
    "# compaire real value and predict value\n",
    "\n",
    "df2[df2['TV'] ==87.2]"
   ]
  },
  {
   "cell_type": "code",
   "execution_count": 53,
   "id": "2811c4ce",
   "metadata": {
    "execution": {
     "iopub.execute_input": "2023-02-17T06:56:30.626755Z",
     "iopub.status.busy": "2023-02-17T06:56:30.626295Z",
     "iopub.status.idle": "2023-02-17T06:56:30.631499Z",
     "shell.execute_reply": "2023-02-17T06:56:30.630142Z"
    },
    "papermill": {
     "duration": 0.028325,
     "end_time": "2023-02-17T06:56:30.634159",
     "exception": false,
     "start_time": "2023-02-17T06:56:30.605834",
     "status": "completed"
    },
    "tags": []
   },
   "outputs": [],
   "source": [
    "# real value 10.6 and predicted value 10.87"
   ]
  },
  {
   "cell_type": "code",
   "execution_count": 54,
   "id": "13e63bdb",
   "metadata": {
    "execution": {
     "iopub.execute_input": "2023-02-17T06:56:30.673097Z",
     "iopub.status.busy": "2023-02-17T06:56:30.672636Z",
     "iopub.status.idle": "2023-02-17T06:56:30.938706Z",
     "shell.execute_reply": "2023-02-17T06:56:30.937379Z"
    },
    "papermill": {
     "duration": 0.288699,
     "end_time": "2023-02-17T06:56:30.941342",
     "exception": false,
     "start_time": "2023-02-17T06:56:30.652643",
     "status": "completed"
    },
    "tags": []
   },
   "outputs": [
    {
     "data": {
      "text/plain": [
       "<AxesSubplot:xlabel='Sales'>"
      ]
     },
     "execution_count": 54,
     "metadata": {},
     "output_type": "execute_result"
    },
    {
     "data": {
      "image/png": "[encoded data removed]",
      "text/plain": [
       "<Figure size 640x480 with 1 Axes>"
      ]
     },
     "metadata": {},
     "output_type": "display_data"
    }
   ],
   "source": [
    "# check relation between actual values and predict value\n",
    "sns.scatterplot(x = y_test,y= y_pred)"
   ]
  },
  {
   "cell_type": "markdown",
   "id": "65636a4f",
   "metadata": {
    "papermill": {
     "duration": 0.018834,
     "end_time": "2023-02-17T06:56:30.979499",
     "exception": false,
     "start_time": "2023-02-17T06:56:30.960665",
     "status": "completed"
    },
    "tags": []
   },
   "source": [
    "Overall Test Result OR OLS (Ordinary Least Squares) Result"
   ]
  },
  {
   "cell_type": "code",
   "execution_count": 55,
   "id": "0cb5f1d7",
   "metadata": {
    "execution": {
     "iopub.execute_input": "2023-02-17T06:56:31.019361Z",
     "iopub.status.busy": "2023-02-17T06:56:31.018891Z",
     "iopub.status.idle": "2023-02-17T06:56:31.746835Z",
     "shell.execute_reply": "2023-02-17T06:56:31.745321Z"
    },
    "papermill": {
     "duration": 0.751866,
     "end_time": "2023-02-17T06:56:31.750394",
     "exception": false,
     "start_time": "2023-02-17T06:56:30.998528",
     "status": "completed"
    },
    "tags": []
   },
   "outputs": [
    {
     "name": "stdout",
     "output_type": "stream",
     "text": [
      "                            OLS Regression Results                            \n",
      "==============================================================================\n",
      "Dep. Variable:                  Sales   R-squared:                       0.901\n",
      "Model:                            OLS   Adj. R-squared:                  0.900\n",
      "Method:                 Least Squares   F-statistic:                     590.4\n",
      "Date:                Wed, 30 Aug 2023   Prob (F-statistic):           3.02e-97\n",
      "Time:                        07:23:41   Log-Likelihood:                -380.34\n",
      "No. Observations:                 198   AIC:                             768.7\n",
      "Df Residuals:                     194   BIC:                             781.8\n",
      "Df Model:                           3                                         \n",
      "Covariance Type:            nonrobust                                         \n",
      "==============================================================================\n",
      "                 coef    std err          t      P>|t|      [0.025      0.975]\n",
      "------------------------------------------------------------------------------\n",
      "const          4.6002      0.314     14.673      0.000       3.982       5.219\n",
      "TV             0.0545      0.001     39.120      0.000       0.052       0.057\n",
      "Radio          0.1069      0.009     12.528      0.000       0.090       0.124\n",
      "Newspaper      0.0009      0.006      0.139      0.889      -0.011       0.013\n",
      "==============================================================================\n",
      "Omnibus:                       15.637   Durbin-Watson:                   2.253\n",
      "Prob(Omnibus):                  0.000   Jarque-Bera (JB):               26.198\n",
      "Skew:                          -0.431   Prob(JB):                     2.05e-06\n",
      "Kurtosis:                       4.559   Cond. No.                         457.\n",
      "==============================================================================\n",
      "\n",
      "Notes:\n",
      "[1] Standard Errors assume that the covariance matrix of the errors is correctly specified.\n"
     ]
    }
   ],
   "source": [
    "import statsmodels.api as sm\n",
    "\n",
    "x = df2[['TV','Radio','Newspaper']]\n",
    "y = df2['Sales']\n",
    "x2 = sm.add_constant(x)\n",
    "temp = sm.OLS(y,x2)\n",
    "est = temp.fit()\n",
    "print(est.summary())"
   ]
  },
  {
   "cell_type": "markdown",
   "id": "0f5386dd",
   "metadata": {
    "papermill": {
     "duration": 0.018427,
     "end_time": "2023-02-17T06:56:31.787976",
     "exception": false,
     "start_time": "2023-02-17T06:56:31.769549",
     "status": "completed"
    },
    "tags": []
   },
   "source": [
    "# Conclusion"
   ]
  },
  {
   "cell_type": "markdown",
   "id": "45acbccc",
   "metadata": {},
   "source": [
    "#### The process of sales prediction encompasses the intricate task of estimating product demand, considering multifaceted elements like advertising expenditure, audience segmentation, and choice of advertising platforms. Within the realm of businesses offering products.\n",
    "#### The invaluable insights derived from these predictions empower businesses to refine and optimize their advertising strategies, ultimately unlocking the full potential of sales. As we embark on the journey of sales prediction through machine learning in Python, the doors open to a realm of enhanced decision-making and heightened sales efficiency."
   ]
  },
  {
   "cell_type": "code",
   "execution_count": null,
   "id": "db0624b5",
   "metadata": {},
   "outputs": [],
   "source": []
  }
 ],
 "metadata": {
  "kernelspec": {
   "display_name": "Python 3 (ipykernel)",
   "language": "python",
   "name": "python3"
  },
  "language_info": {
   "codemirror_mode": {
    "name": "ipython",
    "version": 3
   },
   "file_extension": ".py",
   "mimetype": "text/x-python",
   "name": "python",
   "nbconvert_exporter": "python",
   "pygments_lexer": "ipython3",
   "version": "3.9.13"
  },
  "papermill": {
   "default_parameters": {},
   "duration": 16.299378,
   "end_time": "2023-02-17T06:56:32.731452",
   "environment_variables": {},
   "exception": null,
   "input_path": "__notebook__.ipynb",
   "output_path": "__notebook__.ipynb",
   "parameters": {},
   "start_time": "2023-02-17T06:56:16.432074",
   "version": "2.3.4"
  }
 },
 "nbformat": 4,
 "nbformat_minor": 5
}
